{
  "nbformat": 4,
  "nbformat_minor": 0,
  "metadata": {
    "colab": {
      "provenance": [],
      "authorship_tag": "ABX9TyM51CfdEiJLk8iIjqs595DD",
      "include_colab_link": true
    },
    "kernelspec": {
      "name": "python3",
      "display_name": "Python 3"
    },
    "language_info": {
      "name": "python"
    }
  },
  "cells": [
    {
      "cell_type": "markdown",
      "metadata": {
        "id": "view-in-github",
        "colab_type": "text"
      },
      "source": [
        "<a href=\"https://colab.research.google.com/github/RobinDoughnut/karpathy-neural-networks/blob/main/PyTorch_Transforms.ipynb\" target=\"_parent\"><img src=\"https://colab.research.google.com/assets/colab-badge.svg\" alt=\"Open In Colab\"/></a>"
      ]
    },
    {
      "cell_type": "markdown",
      "source": [
        "### Transforms\n",
        "Data does not always come in its final processed form that is required for training machine learning algorithms. We use transforms\n",
        "to perform some manipulation of the data and make it suitable for training."
      ],
      "metadata": {
        "id": "WN9XDh7612Qc"
      }
    },
    {
      "cell_type": "markdown",
      "source": [
        "All TorchVision datasets have two parameters -transform to modify the features and target_transform\n",
        "to modify the labels - that accept callables containing the transformation logic. The torchvision.transforms module offers several commonly-used transforms out of the box.\n",
        "\n"
      ],
      "metadata": {
        "id": "Qzn68vbp2QAl"
      }
    },
    {
      "cell_type": "markdown",
      "source": [
        "The FashionMNIST features are in PIL Image format, and the labels are integers. For training, we need the features as normalized tensors, and the labels as one-hot encoded tensors.\n",
        "To make these transformations, we use **ToTensor** and **Lambda**."
      ],
      "metadata": {
        "id": "YkF0TqtY2Sgz"
      }
    },
    {
      "cell_type": "code",
      "source": [
        "# import and use transformations\n",
        "import torch\n",
        "from torchvision import datasets\n",
        "from torchvision.transforms import ToTensor, Lambda\n",
        "\n",
        "\n",
        "\n",
        "ds = datasets.FashionMNIST(\n",
        "    root=\"data\",\n",
        "    train=True,\n",
        "    download=True,\n",
        "    transform=ToTensor(),\n",
        "    target_transform=Lambda(lambda y: torch.zeros(10, dtype=torch.float).scatter_(0, torch.tensor(y), value=1))\n",
        ")"
      ],
      "metadata": {
        "colab": {
          "base_uri": "https://localhost:8080/"
        },
        "id": "MAUaqVZV2oCA",
        "outputId": "a64fbba9-a98b-44bc-bf11-d686c20210a9"
      },
      "execution_count": 1,
      "outputs": [
        {
          "output_type": "stream",
          "name": "stderr",
          "text": [
            "100%|██████████| 26.4M/26.4M [00:02<00:00, 12.7MB/s]\n",
            "100%|██████████| 29.5k/29.5k [00:00<00:00, 202kB/s]\n",
            "100%|██████████| 4.42M/4.42M [00:01<00:00, 3.73MB/s]\n",
            "100%|██████████| 5.15k/5.15k [00:00<00:00, 21.7MB/s]\n"
          ]
        }
      ]
    },
    {
      "cell_type": "markdown",
      "source": [
        "### ToTensor()\n",
        "ToTensor converts a PIL image or NumPy ndarray into a FloatTensor.\n",
        "and scales the image’s pixel intensity values in the range [0., 1.]\n",
        "\n",
        "\n"
      ],
      "metadata": {
        "id": "WaEh0nlO27Kb"
      }
    },
    {
      "cell_type": "markdown",
      "source": [
        "### Lambda Transforms\n",
        "Lambda transforms apply any user-defined lambda function. Here, we define a function to turn\n",
        "the integer into a one-hot encoded tensor. It first creates a zero tensor of size 10 (the number of labels in our dataset) and calls scatter_ which assigns a value=1 on the index as given by the label y.\n",
        "\n"
      ],
      "metadata": {
        "id": "wumiZ5O53M4r"
      }
    },
    {
      "cell_type": "code",
      "source": [
        "target_transform = Lambda(lambda y: torch.zeros(\n",
        "    10, dtype=torch.float).scatter_(dim=0, index=torch.tensor(y), value=1))"
      ],
      "metadata": {
        "id": "Lbq-W0Pn316V"
      },
      "execution_count": 2,
      "outputs": []
    }
  ]
}