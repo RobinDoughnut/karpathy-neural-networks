{
  "nbformat": 4,
  "nbformat_minor": 0,
  "metadata": {
    "colab": {
      "provenance": [],
      "authorship_tag": "ABX9TyPBVplt3CHHqhnC3YotmwHu",
      "include_colab_link": true
    },
    "kernelspec": {
      "name": "python3",
      "display_name": "Python 3"
    },
    "language_info": {
      "name": "python"
    }
  },
  "cells": [
    {
      "cell_type": "markdown",
      "metadata": {
        "id": "view-in-github",
        "colab_type": "text"
      },
      "source": [
        "<a href=\"https://colab.research.google.com/github/RobinDoughnut/karpathy-neural-networks/blob/main/PyTorch_quickstart.ipynb\" target=\"_parent\"><img src=\"https://colab.research.google.com/assets/colab-badge.svg\" alt=\"Open In Colab\"/></a>"
      ]
    },
    {
      "cell_type": "markdown",
      "source": [
        "### PyTorch getting started (quickstart)\n",
        "\n",
        "\n",
        "\n"
      ],
      "metadata": {
        "id": "g3K91Z7tJoNa"
      }
    },
    {
      "cell_type": "markdown",
      "source": [
        "### Working with Data\n",
        "\n",
        "torch.utils.data.DataLoader and torch.utils.data.Dataset\n",
        "\n"
      ],
      "metadata": {
        "id": "5Nxkha0XJmGx"
      }
    },
    {
      "cell_type": "code",
      "source": [
        "import torch\n",
        "from torch import nn\n",
        "from torch.utils.data import DataLoader\n",
        "from torchvision import datasets\n",
        "from torchvision.transforms import ToTensor"
      ],
      "metadata": {
        "id": "ETCnNtl7K82N"
      },
      "execution_count": 1,
      "outputs": []
    },
    {
      "cell_type": "code",
      "source": [
        "# Download training data from open datasets.\n",
        "training_data = datasets.FashionMNIST(\n",
        "    root=\"data\",\n",
        "    train=True,\n",
        "    download=True,\n",
        "    transform=ToTensor(),\n",
        ")\n",
        "\n",
        "# Download test data from open datasets.\n",
        "test_data = datasets.FashionMNIST(\n",
        "    root=\"data\",\n",
        "    train=False,\n",
        "    download=True,\n",
        "    transform=ToTensor(),\n",
        ")"
      ],
      "metadata": {
        "id": "6AD_CmXzLUUz"
      },
      "execution_count": 20,
      "outputs": []
    },
    {
      "cell_type": "code",
      "source": [
        "batch_size = 64\n",
        "\n",
        "# Create data loaders.\n",
        "train_dataloader = DataLoader(training_data, batch_size=batch_size)\n",
        "test_dataloader = DataLoader(test_data, batch_size=batch_size)\n",
        "\n",
        "for X, y in test_dataloader:\n",
        "    print(f\"Shape of X [N, C, H, W]: {X.shape}\")\n",
        "    print(f\"Shape of y: {y.shape} {y.dtype}\")\n",
        "    break"
      ],
      "metadata": {
        "colab": {
          "base_uri": "https://localhost:8080/"
        },
        "id": "xPi9i-cfNS6k",
        "outputId": "0233c3bc-c20e-4345-95a4-8ae79bb1bcf3"
      },
      "execution_count": 21,
      "outputs": [
        {
          "output_type": "stream",
          "name": "stdout",
          "text": [
            "Shape of X [N, C, H, W]: torch.Size([64, 1, 28, 28])\n",
            "Shape of y: torch.Size([64]) torch.int64\n"
          ]
        }
      ]
    },
    {
      "cell_type": "markdown",
      "source": [
        "### Creating Models\n",
        "\n",
        "A class that inherits from *nn.Module*. We define the layers of the network in the __init__ function and specify how data will pass through the network in the forward function. To accelerate operations in the neural network, we move it to the accelerator such as CUDA, MPS, MTIA, or XPU. If the current accelerator is available, we will use it. Otherwise, we use the CPU."
      ],
      "metadata": {
        "id": "7_SOCl_gOZAN"
      }
    },
    {
      "cell_type": "code",
      "source": [
        "device = torch.accelerator.current_accelerator().type if torch.accelerator.is_available() else \"cpu\"\n",
        "print(f\"Using {device} device\")\n",
        "\n",
        "# Define model\n",
        "class NeuralNetwork(nn.Module):\n",
        "    def __init__(self):\n",
        "        super().__init__()\n",
        "        self.flatten = nn.Flatten()\n",
        "        self.linear_relu_stack = nn.Sequential(\n",
        "            nn.Linear(28*28, 512),\n",
        "            nn.ReLU(),\n",
        "            nn.Linear(512, 512),\n",
        "            nn.ReLU(),\n",
        "            nn.Linear(512, 10)\n",
        "        )\n",
        "\n",
        "    def forward(self, x):\n",
        "        x = self.flatten(x)\n",
        "        logits = self.linear_relu_stack(x)\n",
        "        return logits\n",
        "\n",
        "model = NeuralNetwork().to(device)\n",
        "print(model)"
      ],
      "metadata": {
        "colab": {
          "base_uri": "https://localhost:8080/"
        },
        "id": "kbAlrXWd0RNp",
        "outputId": "315168d8-61a9-4f73-c497-d707eed2fe0f"
      },
      "execution_count": 22,
      "outputs": [
        {
          "output_type": "stream",
          "name": "stdout",
          "text": [
            "Using cpu device\n",
            "NeuralNetwork(\n",
            "  (flatten): Flatten(start_dim=1, end_dim=-1)\n",
            "  (linear_relu_stack): Sequential(\n",
            "    (0): Linear(in_features=784, out_features=512, bias=True)\n",
            "    (1): ReLU()\n",
            "    (2): Linear(in_features=512, out_features=512, bias=True)\n",
            "    (3): ReLU()\n",
            "    (4): Linear(in_features=512, out_features=10, bias=True)\n",
            "  )\n",
            ")\n"
          ]
        }
      ]
    },
    {
      "cell_type": "markdown",
      "source": [
        "### Optimizing the model parameters"
      ],
      "metadata": {
        "id": "urE_LVGpUztQ"
      }
    },
    {
      "cell_type": "code",
      "source": [
        "loss_fn = nn.CrossEntropyLoss()\n",
        "optimizer = torch.optim.SGD(model.parameters(), lr=1e-3)"
      ],
      "metadata": {
        "id": "SWso6MPTPYYB"
      },
      "execution_count": 23,
      "outputs": []
    },
    {
      "cell_type": "markdown",
      "source": [
        "In a single training loop, the model makes predictions on the training dataset (fed to it in batches), and backpropagates the prediction error to adjust the model’s parameters."
      ],
      "metadata": {
        "id": "zyEqzK7XQFqP"
      }
    },
    {
      "cell_type": "code",
      "source": [
        "def train(dataloader, model, loss_fn, optimizer):\n",
        "    size = len(dataloader.dataset)\n",
        "    model.train()\n",
        "    for batch, (X, y) in enumerate(dataloader):\n",
        "        X, y = X.to(device), y.to(device)\n",
        "\n",
        "        # Compute prediction error\n",
        "        pred = model(X)\n",
        "        loss = loss_fn(pred, y)\n",
        "\n",
        "        # Backpropagation\n",
        "        loss.backward()\n",
        "        optimizer.step()\n",
        "        optimizer.zero_grad()\n",
        "\n",
        "        if batch % 100 == 0:\n",
        "            loss, current = loss.item(), (batch + 1) * len(X)\n",
        "            print(f\"loss: {loss:>7f}  [{current:>5d}/{size:>5d}]\")"
      ],
      "metadata": {
        "id": "yLo28so9PzgZ"
      },
      "execution_count": 24,
      "outputs": []
    },
    {
      "cell_type": "markdown",
      "source": [
        "### Check model's performance against test dataset:"
      ],
      "metadata": {
        "id": "fL7OSqRvwkKS"
      }
    },
    {
      "cell_type": "code",
      "source": [
        "def test(dataloader, model, loss_fn):\n",
        "    size = len(dataloader.dataset)\n",
        "    num_batches = len(dataloader)\n",
        "    model.eval()\n",
        "    test_loss, correct = 0, 0\n",
        "    with torch.no_grad():\n",
        "        for X, y in dataloader:\n",
        "            X, y = X.to(device), y.to(device)\n",
        "            pred = model(X)\n",
        "            test_loss += loss_fn(pred, y).item()\n",
        "            correct += (pred.argmax(1) == y).type(torch.float).sum().item()\n",
        "    test_loss /= num_batches\n",
        "    correct /= size\n",
        "    print(f\"Test Error: \\n Accuracy: {(100*correct):>0.1f}%, Avg loss: {test_loss:>8f} \\n\")"
      ],
      "metadata": {
        "id": "bwsx7cNbwo0K"
      },
      "execution_count": 25,
      "outputs": []
    },
    {
      "cell_type": "markdown",
      "source": [
        "### The training process is conducted over several iterations (epochs). During each epoch, the model learns parameters to make better predictions. We print the model’s accuracy and loss at each epoch; we’d like to see the accuracy increase and the loss decrease with every epoch.\n"
      ],
      "metadata": {
        "id": "eIwZgQGAx39X"
      }
    },
    {
      "cell_type": "code",
      "source": [
        "epochs = 5\n",
        "for t in range(epochs):\n",
        "  print(f\"Epoch {t+1}\\n-----------------\")\n",
        "  train(train_dataloader, model, loss_fn, optimizer)\n",
        "  test(test_dataloader, model, loss_fn)\n",
        "  print(\"Done!\")"
      ],
      "metadata": {
        "colab": {
          "base_uri": "https://localhost:8080/"
        },
        "id": "IQsrOMnBx8H5",
        "outputId": "d6626245-a1e9-401a-aed5-7f7bc515aa26"
      },
      "execution_count": 26,
      "outputs": [
        {
          "output_type": "stream",
          "name": "stdout",
          "text": [
            "Epoch 1\n",
            "-----------------\n",
            "loss: 2.301389  [   64/60000]\n",
            "loss: 2.288831  [ 6464/60000]\n",
            "loss: 2.281063  [12864/60000]\n",
            "loss: 2.270951  [19264/60000]\n",
            "loss: 2.252733  [25664/60000]\n",
            "loss: 2.228566  [32064/60000]\n",
            "loss: 2.231284  [38464/60000]\n",
            "loss: 2.201864  [44864/60000]\n",
            "loss: 2.198374  [51264/60000]\n",
            "loss: 2.173997  [57664/60000]\n",
            "Test Error: \n",
            " Accuracy: 51.1%, Avg loss: 2.167531 \n",
            "\n",
            "Done!\n",
            "Epoch 2\n",
            "-----------------\n",
            "loss: 2.177997  [   64/60000]\n",
            "loss: 2.169023  [ 6464/60000]\n",
            "loss: 2.126530  [12864/60000]\n",
            "loss: 2.136124  [19264/60000]\n",
            "loss: 2.096293  [25664/60000]\n",
            "loss: 2.033162  [32064/60000]\n",
            "loss: 2.066649  [38464/60000]\n",
            "loss: 1.997852  [44864/60000]\n",
            "loss: 1.998577  [51264/60000]\n",
            "loss: 1.931239  [57664/60000]\n",
            "Test Error: \n",
            " Accuracy: 58.4%, Avg loss: 1.933330 \n",
            "\n",
            "Done!\n",
            "Epoch 3\n",
            "-----------------\n",
            "loss: 1.967975  [   64/60000]\n",
            "loss: 1.935561  [ 6464/60000]\n",
            "loss: 1.846010  [12864/60000]\n",
            "loss: 1.868704  [19264/60000]\n",
            "loss: 1.773460  [25664/60000]\n",
            "loss: 1.721343  [32064/60000]\n",
            "loss: 1.744127  [38464/60000]\n",
            "loss: 1.655806  [44864/60000]\n",
            "loss: 1.669381  [51264/60000]\n",
            "loss: 1.557065  [57664/60000]\n",
            "Test Error: \n",
            " Accuracy: 60.7%, Avg loss: 1.577509 \n",
            "\n",
            "Done!\n",
            "Epoch 4\n",
            "-----------------\n",
            "loss: 1.650231  [   64/60000]\n",
            "loss: 1.599662  [ 6464/60000]\n",
            "loss: 1.473756  [12864/60000]\n",
            "loss: 1.521489  [19264/60000]\n",
            "loss: 1.409298  [25664/60000]\n",
            "loss: 1.403209  [32064/60000]\n",
            "loss: 1.416716  [38464/60000]\n",
            "loss: 1.347314  [44864/60000]\n",
            "loss: 1.372365  [51264/60000]\n",
            "loss: 1.263019  [57664/60000]\n",
            "Test Error: \n",
            " Accuracy: 63.3%, Avg loss: 1.290324 \n",
            "\n",
            "Done!\n",
            "Epoch 5\n",
            "-----------------\n",
            "loss: 1.375256  [   64/60000]\n",
            "loss: 1.340829  [ 6464/60000]\n",
            "loss: 1.195636  [12864/60000]\n",
            "loss: 1.279701  [19264/60000]\n",
            "loss: 1.160262  [25664/60000]\n",
            "loss: 1.185073  [32064/60000]\n",
            "loss: 1.208577  [38464/60000]\n",
            "loss: 1.150055  [44864/60000]\n",
            "loss: 1.179001  [51264/60000]\n",
            "loss: 1.087370  [57664/60000]\n",
            "Test Error: \n",
            " Accuracy: 65.2%, Avg loss: 1.109531 \n",
            "\n",
            "Done!\n"
          ]
        }
      ]
    },
    {
      "cell_type": "markdown",
      "source": [
        "### Saving Models"
      ],
      "metadata": {
        "id": "N6uHOP4Mz3Q8"
      }
    },
    {
      "cell_type": "code",
      "source": [
        "torch.save(model.state_dict(), \"model.pth\")"
      ],
      "metadata": {
        "id": "bnx5OC5Iz67m"
      },
      "execution_count": 30,
      "outputs": []
    },
    {
      "cell_type": "code",
      "source": [
        "print(\"Saved PyTorch Model State to model.pth\")"
      ],
      "metadata": {
        "colab": {
          "base_uri": "https://localhost:8080/"
        },
        "id": "fR1B4hFSz-IT",
        "outputId": "754da397-3378-4d0c-b956-3ab601b4d967"
      },
      "execution_count": 31,
      "outputs": [
        {
          "output_type": "stream",
          "name": "stdout",
          "text": [
            "Saved PyTorch Model State to model.pth\n"
          ]
        }
      ]
    },
    {
      "cell_type": "markdown",
      "source": [
        "### Loading Models"
      ],
      "metadata": {
        "id": "78iHDOUAz_M_"
      }
    },
    {
      "cell_type": "code",
      "source": [
        "model = NeuralNetwork().to(device)\n",
        "model.load_state_dict(torch.load(\"model.pth\", weights_only=True))"
      ],
      "metadata": {
        "colab": {
          "base_uri": "https://localhost:8080/"
        },
        "id": "Vhp0tDX01rwG",
        "outputId": "d5355514-0c57-4312-e5c7-bc4c4241c06a"
      },
      "execution_count": 32,
      "outputs": [
        {
          "output_type": "execute_result",
          "data": {
            "text/plain": [
              "<All keys matched successfully>"
            ]
          },
          "metadata": {},
          "execution_count": 32
        }
      ]
    },
    {
      "cell_type": "code",
      "source": [
        "classes = [\n",
        "    \"T-shirt/top\",\n",
        "    \"Trouser\",\n",
        "    \"Pullover\",\n",
        "    \"Dress\",\n",
        "    \"Coat\",\n",
        "    \"Sandal\",\n",
        "    \"Shirt\",\n",
        "    \"Sneaker\",\n",
        "    \"Bag\",\n",
        "    \"Ankle boot\",\n",
        "]\n",
        "\n",
        "model.eval()\n",
        "x, y = test_data[0][0], test_data[0][1]\n",
        "with torch.no_grad():\n",
        "    x = x.to(device)\n",
        "    pred = model(x)\n",
        "    predicted, actual = classes[pred[0].argmax(0)], classes[y]\n",
        "    print(f'Predicted: \"{predicted}\", Actual: \"{actual}\"')"
      ],
      "metadata": {
        "colab": {
          "base_uri": "https://localhost:8080/"
        },
        "id": "LupTjSA91vpQ",
        "outputId": "b04f3a04-b718-481f-c74c-415812c18414"
      },
      "execution_count": 33,
      "outputs": [
        {
          "output_type": "stream",
          "name": "stdout",
          "text": [
            "Predicted: \"Coat\", Actual: \"Ankle boot\"\n"
          ]
        }
      ]
    }
  ]
}