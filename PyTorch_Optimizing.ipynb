{
  "nbformat": 4,
  "nbformat_minor": 0,
  "metadata": {
    "colab": {
      "provenance": [],
      "authorship_tag": "ABX9TyPQxMpF7tk9l+a0gzpLKGDH",
      "include_colab_link": true
    },
    "kernelspec": {
      "name": "python3",
      "display_name": "Python 3"
    },
    "language_info": {
      "name": "python"
    }
  },
  "cells": [
    {
      "cell_type": "markdown",
      "metadata": {
        "id": "view-in-github",
        "colab_type": "text"
      },
      "source": [
        "<a href=\"https://colab.research.google.com/github/RobinDoughnut/karpathy-neural-networks/blob/main/PyTorch_Optimizing.ipynb\" target=\"_parent\"><img src=\"https://colab.research.google.com/assets/colab-badge.svg\" alt=\"Open In Colab\"/></a>"
      ]
    },
    {
      "cell_type": "markdown",
      "source": [
        "### Optimizing Model Parameters"
      ],
      "metadata": {
        "id": "deWh-bb-knwn"
      }
    },
    {
      "cell_type": "markdown",
      "source": [
        "Now that we have a model and data it’s time to train, validate and test our model by optimizing its parameters on our data. Training a model is an iterative process; in each iteration the model makes a guess about the output, calculates the error in its guess (*loss*), collects the derivatives of the error with respect to its parameters (as we saw in the previous section), and **optimizes** these parameters using gradient descent. For a more detailed walkthrough of this process, [check out this video on backpropagation from 3Blue1Brown.](https://youtu.be/tIeHLnjs5U8)"
      ],
      "metadata": {
        "id": "DcAHLOmkk4yc"
      }
    },
    {
      "cell_type": "markdown",
      "source": [
        "### Prerequisite Code\n",
        "\n",
        "We load the code from the previous sections on  [Datasets & DataLoaders](https://github.com/RobinDoughnut/karpathy-neural-networks/blob/main/PyTorch_Datasets_DataLoader.ipynb) and  [Build Model](https://github.com/RobinDoughnut/karpathy-neural-networks/blob/main/PyTorch_buildNN.ipynb).\n",
        "\n"
      ],
      "metadata": {
        "id": "tqsuuviClBpe"
      }
    },
    {
      "cell_type": "code",
      "source": [
        "import torch\n",
        "from torch import nn\n",
        "from torch.utils.data import DataLoader\n",
        "from torchvision import datasets\n",
        "from torchvision.transforms import ToTensor\n",
        "\n",
        "training_data = datasets.FashionMNIST(\n",
        "    root=\"data\",\n",
        "    train=True,\n",
        "    download=True,\n",
        "    transform=ToTensor()\n",
        ")\n",
        "\n",
        "test_data = datasets.FashionMNIST(\n",
        "    root=\"data\",\n",
        "    train=False,\n",
        "    download=True,\n",
        "    transform=ToTensor()\n",
        ")\n",
        "\n",
        "train_dataloader = DataLoader(training_data, batch_size=64)\n",
        "test_dataloader = DataLoader(test_data, batch_size=64)\n",
        "\n",
        "class NeuralNetwork(nn.Module):\n",
        "    def __init__(self):\n",
        "        super().__init__()\n",
        "        self.flatten = nn.Flatten()\n",
        "        self.linear_relu_stack = nn.Sequential(\n",
        "            nn.Linear(28*28, 512),\n",
        "            nn.ReLU(),\n",
        "            nn.Linear(512, 512),\n",
        "            nn.ReLU(),\n",
        "            nn.Linear(512, 10),\n",
        "        )\n",
        "\n",
        "    def forward(self, x):\n",
        "        x = self.flatten(x)\n",
        "        logits = self.linear_relu_stack(x)\n",
        "        return logits\n",
        "\n",
        "model = NeuralNetwork()\n"
      ],
      "metadata": {
        "colab": {
          "base_uri": "https://localhost:8080/"
        },
        "id": "Uf9uHeZqmI6_",
        "outputId": "b08715f2-2ba6-4d40-c151-1597ef6d752a"
      },
      "execution_count": 1,
      "outputs": [
        {
          "output_type": "stream",
          "name": "stderr",
          "text": [
            "100%|██████████| 26.4M/26.4M [00:01<00:00, 17.7MB/s]\n",
            "100%|██████████| 29.5k/29.5k [00:00<00:00, 305kB/s]\n",
            "100%|██████████| 4.42M/4.42M [00:00<00:00, 5.54MB/s]\n",
            "100%|██████████| 5.15k/5.15k [00:00<00:00, 15.2MB/s]\n"
          ]
        }
      ]
    },
    {
      "cell_type": "markdown",
      "source": [
        "### Hyperparameters\n",
        "Hyperparameters are adjustable parameters that let you control the model optimization process.\n",
        "Different hyperparameter values can impact model training and convergence rates (read more about hyperparameter tuning)"
      ],
      "metadata": {
        "id": "v1ptqa3XmwR7"
      }
    },
    {
      "cell_type": "markdown",
      "source": [
        "**We define the following hyperparameters for training:**\n",
        "\n",
        "* **Number of Epochs** - the number of times to iterate over the dataset\n",
        "\n",
        "* **Batch Size** - the number of data samples propagated through the network before the parameters are updated\n",
        "\n",
        "* **Learning Rate** - how much to update models parameters at each batch/epoch. Smaller values yield slow learning speed, while large values may result in unpredictable behavior during training."
      ],
      "metadata": {
        "id": "i9WC6HsEoNNQ"
      }
    },
    {
      "cell_type": "code",
      "source": [
        "learning_rate = 1e-3\n",
        "batch_size = 64\n",
        "epochs = 5"
      ],
      "metadata": {
        "id": "h7m-MLPqofZC"
      },
      "execution_count": 2,
      "outputs": []
    },
    {
      "cell_type": "markdown",
      "source": [
        "### Optimization Loop\n",
        "Once we set our hyperparameters, we can then train and optimize our model with an optimization loop. Each iteration of the optimization loop is called an **epoch**.\n",
        "\n",
        "\n",
        "**Each epoch consists of two main parts:**\n",
        "* **The Train Loop** - iterate over the training dataset and try to converge to optimal parameters.\n",
        "\n",
        "* **The Validation/Test Loop** - iterate over the test dataset to check if model performance is improving."
      ],
      "metadata": {
        "id": "neqUT5m6oqMQ"
      }
    },
    {
      "cell_type": "markdown",
      "source": [
        "Let’s briefly familiarize ourselves with some of the concepts used in the training loop"
      ],
      "metadata": {
        "id": "MT2Yk-IJptbb"
      }
    },
    {
      "cell_type": "markdown",
      "source": [
        "### Loss Function\n",
        "When presented with some training data, our untrained network is likely not to give the correct answer. **Loss function** measures the degree of dissimilarity of obtained result to the target value, and it is the loss function that we want to minimize during training.\n",
        "To calculate the loss we make a prediction using the inputs of our given data sample and compare it against the true data label value.\n",
        "\n",
        "Common loss functions include **nn.MSELoss (Mean Square Error)** for regression tasks, and **nn.NLLLoss (Negative Log Likelihood)** for classification. **nn.CrossEntropyLoss** combines *nn.LogSoftmax* and *nn.NLLLoss*.\n",
        "\n",
        "We pass our model’s output logits to *nn.CrossEntropyLoss*, which will normalize the logits and compute the prediction error."
      ],
      "metadata": {
        "id": "2PDi2Ovlpv-R"
      }
    },
    {
      "cell_type": "code",
      "source": [
        "# Initialize the loss function\n",
        "loss_fn = nn.CrossEntropyLoss()"
      ],
      "metadata": {
        "id": "kzIPnIZHqNKA"
      },
      "execution_count": 4,
      "outputs": []
    },
    {
      "cell_type": "markdown",
      "source": [
        "### Optimizer\n",
        "Optimization is the process of adjusting model parameters to reduce model error in each training step.\n",
        "Optimization algorithms define how this process is performed (in this example we use Stochastic Gradient Descent).\n",
        "All optimization logic is encapsulated in the optimizer object. Here, we use the SGD optimizer; additionally,\n",
        "there are many different optimizers available in PyTorch such as ADAM and RMSProp,\n",
        "that work better for different kinds of models and data.\n",
        "\n",
        "We initialize the optimizer by registering the model’s parameters that need to be trained, and passing in the learning rate hyperparameter."
      ],
      "metadata": {
        "id": "XZIVTaclr09V"
      }
    },
    {
      "cell_type": "code",
      "source": [
        "optimizer = torch.optim.SGD(model.parameters(), lr=learning_rate)"
      ],
      "metadata": {
        "id": "P4Qy84futLRq"
      },
      "execution_count": 5,
      "outputs": []
    },
    {
      "cell_type": "markdown",
      "source": [
        "**Inside the training loop, optimization happens in three steps:**\n",
        "\n",
        "* Call optimizer.zero_grad() to reset the gradients of model parameters. Gradients by default add up; to prevent double-counting, we explicitly zero them at each iteration.\n",
        "\n",
        " * Backpropagate the prediction loss with a call to loss.backward(). PyTorch deposits the gradients of the loss w.r.t. each parameter.\n",
        "\n",
        " * Once we have our gradients, we call optimizer.step() to adjust the parameters by the gradients collected in the backward pass.\n",
        "\n",
        "\n"
      ],
      "metadata": {
        "id": "T8EOrTw0tkFB"
      }
    },
    {
      "cell_type": "markdown",
      "source": [
        "### Full Implementation\n",
        "We define train_loop that loops over our optimization code, and test_loop that evaluates the model’s performance against our test data.\n"
      ],
      "metadata": {
        "id": "aNG6n7G0uSoN"
      }
    },
    {
      "cell_type": "code",
      "source": [
        "def train_loop(dataloader, model, loss_fn, optimizer):\n",
        "    size = len(dataloader.dataset)\n",
        "    # Set the model to training mode - important for batch normalization and dropout layers\n",
        "    # Unnecessary in this situation but added for best practices\n",
        "    model.train()\n",
        "    for batch, (X, y) in enumerate(dataloader):\n",
        "        # Compute prediction and loss\n",
        "        pred = model(X)\n",
        "        loss = loss_fn(pred, y)\n",
        "\n",
        "        # Backpropagation\n",
        "        loss.backward()\n",
        "        optimizer.step()\n",
        "        optimizer.zero_grad()\n",
        "\n",
        "        if batch % 100 == 0:\n",
        "            loss, current = loss.item(), batch * batch_size + len(X)\n",
        "            print(f\"loss: {loss:>7f}  [{current:>5d}/{size:>5d}]\")\n",
        "\n",
        "\n",
        "def test_loop(dataloader, model, loss_fn):\n",
        "    # Set the model to evaluation mode - important for batch normalization and dropout layers\n",
        "    # Unnecessary in this situation but added for best practices\n",
        "    model.eval()\n",
        "    size = len(dataloader.dataset)\n",
        "    num_batches = len(dataloader)\n",
        "    test_loss, correct = 0, 0\n",
        "\n",
        "    # Evaluating the model with torch.no_grad() ensures that no gradients are computed during test mode\n",
        "    # also serves to reduce unnecessary gradient computations and memory usage for tensors with requires_grad=True\n",
        "    with torch.no_grad():\n",
        "        for X, y in dataloader:\n",
        "            pred = model(X)\n",
        "            test_loss += loss_fn(pred, y).item()\n",
        "            correct += (pred.argmax(1) == y).type(torch.float).sum().item()\n",
        "\n",
        "    test_loss /= num_batches\n",
        "    correct /= size\n",
        "    print(f\"Test Error: \\n Accuracy: {(100*correct):>0.1f}%, Avg loss: {test_loss:>8f} \\n\")"
      ],
      "metadata": {
        "id": "A-gUmqa1uc5L"
      },
      "execution_count": 6,
      "outputs": []
    },
    {
      "cell_type": "markdown",
      "source": [
        "We initialize the loss function and optimizer, and pass it to **train_loop** and **test_loop**. Feel free to increase the number of epochs to track the model’s improving performance."
      ],
      "metadata": {
        "id": "4oKxGO0kv42Q"
      }
    },
    {
      "cell_type": "code",
      "source": [
        "loss_fn = nn.CrossEntropyLoss()\n",
        "optimizer = torch.optim.SGD(model.parameters(), lr=learning_rate)\n",
        "\n",
        "epochs = 10\n",
        "for t in range(epochs):\n",
        "    print(f\"Epoch {t+1}\\n-------------------------------\")\n",
        "    train_loop(train_dataloader, model, loss_fn, optimizer)\n",
        "    test_loop(test_dataloader, model, loss_fn)\n",
        "print(\"Done!\")"
      ],
      "metadata": {
        "colab": {
          "base_uri": "https://localhost:8080/"
        },
        "id": "omRpzIKuwAsF",
        "outputId": "d1d80777-a03d-48f0-baa9-569e2bd780e8"
      },
      "execution_count": 7,
      "outputs": [
        {
          "output_type": "stream",
          "name": "stdout",
          "text": [
            "Epoch 1\n",
            "-------------------------------\n",
            "loss: 2.312695  [   64/60000]\n",
            "loss: 2.296279  [ 6464/60000]\n",
            "loss: 2.281631  [12864/60000]\n",
            "loss: 2.267112  [19264/60000]\n",
            "loss: 2.245704  [25664/60000]\n",
            "loss: 2.225222  [32064/60000]\n",
            "loss: 2.230792  [38464/60000]\n",
            "loss: 2.204702  [44864/60000]\n",
            "loss: 2.203455  [51264/60000]\n",
            "loss: 2.156185  [57664/60000]\n",
            "Test Error: \n",
            " Accuracy: 46.3%, Avg loss: 2.159683 \n",
            "\n",
            "Epoch 2\n",
            "-------------------------------\n",
            "loss: 2.177596  [   64/60000]\n",
            "loss: 2.161803  [ 6464/60000]\n",
            "loss: 2.110763  [12864/60000]\n",
            "loss: 2.118681  [19264/60000]\n",
            "loss: 2.057811  [25664/60000]\n",
            "loss: 2.014566  [32064/60000]\n",
            "loss: 2.034560  [38464/60000]\n",
            "loss: 1.965233  [44864/60000]\n",
            "loss: 1.972253  [51264/60000]\n",
            "loss: 1.879198  [57664/60000]\n",
            "Test Error: \n",
            " Accuracy: 52.5%, Avg loss: 1.888776 \n",
            "\n",
            "Epoch 3\n",
            "-------------------------------\n",
            "loss: 1.930387  [   64/60000]\n",
            "loss: 1.891569  [ 6464/60000]\n",
            "loss: 1.782547  [12864/60000]\n",
            "loss: 1.816266  [19264/60000]\n",
            "loss: 1.694173  [25664/60000]\n",
            "loss: 1.657575  [32064/60000]\n",
            "loss: 1.675044  [38464/60000]\n",
            "loss: 1.581961  [44864/60000]\n",
            "loss: 1.607694  [51264/60000]\n",
            "loss: 1.490406  [57664/60000]\n",
            "Test Error: \n",
            " Accuracy: 58.8%, Avg loss: 1.518307 \n",
            "\n",
            "Epoch 4\n",
            "-------------------------------\n",
            "loss: 1.591305  [   64/60000]\n",
            "loss: 1.547369  [ 6464/60000]\n",
            "loss: 1.406718  [12864/60000]\n",
            "loss: 1.476268  [19264/60000]\n",
            "loss: 1.351721  [25664/60000]\n",
            "loss: 1.350310  [32064/60000]\n",
            "loss: 1.367002  [38464/60000]\n",
            "loss: 1.292921  [44864/60000]\n",
            "loss: 1.323030  [51264/60000]\n",
            "loss: 1.220907  [57664/60000]\n",
            "Test Error: \n",
            " Accuracy: 62.5%, Avg loss: 1.253499 \n",
            "\n",
            "Epoch 5\n",
            "-------------------------------\n",
            "loss: 1.335936  [   64/60000]\n",
            "loss: 1.306443  [ 6464/60000]\n",
            "loss: 1.149862  [12864/60000]\n",
            "loss: 1.256790  [19264/60000]\n",
            "loss: 1.128286  [25664/60000]\n",
            "loss: 1.151202  [32064/60000]\n",
            "loss: 1.179078  [38464/60000]\n",
            "loss: 1.114609  [44864/60000]\n",
            "loss: 1.145936  [51264/60000]\n",
            "loss: 1.061076  [57664/60000]\n",
            "Test Error: \n",
            " Accuracy: 64.8%, Avg loss: 1.089037 \n",
            "\n",
            "Epoch 6\n",
            "-------------------------------\n",
            "loss: 1.166896  [   64/60000]\n",
            "loss: 1.155094  [ 6464/60000]\n",
            "loss: 0.981599  [12864/60000]\n",
            "loss: 1.118083  [19264/60000]\n",
            "loss: 0.988723  [25664/60000]\n",
            "loss: 1.017227  [32064/60000]\n",
            "loss: 1.061419  [38464/60000]\n",
            "loss: 1.000074  [44864/60000]\n",
            "loss: 1.029472  [51264/60000]\n",
            "loss: 0.959486  [57664/60000]\n",
            "Test Error: \n",
            " Accuracy: 65.8%, Avg loss: 0.981873 \n",
            "\n",
            "Epoch 7\n",
            "-------------------------------\n",
            "loss: 1.048685  [   64/60000]\n",
            "loss: 1.056348  [ 6464/60000]\n",
            "loss: 0.865572  [12864/60000]\n",
            "loss: 1.024748  [19264/60000]\n",
            "loss: 0.899827  [25664/60000]\n",
            "loss: 0.922886  [32064/60000]\n",
            "loss: 0.983688  [38464/60000]\n",
            "loss: 0.924842  [44864/60000]\n",
            "loss: 0.949226  [51264/60000]\n",
            "loss: 0.891286  [57664/60000]\n",
            "Test Error: \n",
            " Accuracy: 67.2%, Avg loss: 0.908913 \n",
            "\n",
            "Epoch 8\n",
            "-------------------------------\n",
            "loss: 0.961608  [   64/60000]\n",
            "loss: 0.988016  [ 6464/60000]\n",
            "loss: 0.782588  [12864/60000]\n",
            "loss: 0.958342  [19264/60000]\n",
            "loss: 0.840861  [25664/60000]\n",
            "loss: 0.854954  [32064/60000]\n",
            "loss: 0.928988  [38464/60000]\n",
            "loss: 0.874510  [44864/60000]\n",
            "loss: 0.891756  [51264/60000]\n",
            "loss: 0.842322  [57664/60000]\n",
            "Test Error: \n",
            " Accuracy: 68.2%, Avg loss: 0.856748 \n",
            "\n",
            "Epoch 9\n",
            "-------------------------------\n",
            "loss: 0.894545  [   64/60000]\n",
            "loss: 0.937092  [ 6464/60000]\n",
            "loss: 0.721007  [12864/60000]\n",
            "loss: 0.908867  [19264/60000]\n",
            "loss: 0.799584  [25664/60000]\n",
            "loss: 0.804683  [32064/60000]\n",
            "loss: 0.887437  [38464/60000]\n",
            "loss: 0.839382  [44864/60000]\n",
            "loss: 0.849203  [51264/60000]\n",
            "loss: 0.805260  [57664/60000]\n",
            "Test Error: \n",
            " Accuracy: 69.4%, Avg loss: 0.817389 \n",
            "\n",
            "Epoch 10\n",
            "-------------------------------\n",
            "loss: 0.840750  [   64/60000]\n",
            "loss: 0.896397  [ 6464/60000]\n",
            "loss: 0.673394  [12864/60000]\n",
            "loss: 0.870779  [19264/60000]\n",
            "loss: 0.768769  [25664/60000]\n",
            "loss: 0.766514  [32064/60000]\n",
            "loss: 0.853802  [38464/60000]\n",
            "loss: 0.813748  [44864/60000]\n",
            "loss: 0.816368  [51264/60000]\n",
            "loss: 0.775929  [57664/60000]\n",
            "Test Error: \n",
            " Accuracy: 70.7%, Avg loss: 0.786232 \n",
            "\n",
            "Done!\n"
          ]
        }
      ]
    }
  ]
}