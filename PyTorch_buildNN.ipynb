{
  "nbformat": 4,
  "nbformat_minor": 0,
  "metadata": {
    "colab": {
      "provenance": [],
      "gpuType": "T4",
      "authorship_tag": "ABX9TyNFEFMVy8cHGcY7rk28tbKK",
      "include_colab_link": true
    },
    "kernelspec": {
      "name": "python3",
      "display_name": "Python 3"
    },
    "language_info": {
      "name": "python"
    },
    "accelerator": "GPU"
  },
  "cells": [
    {
      "cell_type": "markdown",
      "metadata": {
        "id": "view-in-github",
        "colab_type": "text"
      },
      "source": [
        "<a href=\"https://colab.research.google.com/github/RobinDoughnut/karpathy-neural-networks/blob/main/PyTorch_buildNN.ipynb\" target=\"_parent\"><img src=\"https://colab.research.google.com/assets/colab-badge.svg\" alt=\"Open In Colab\"/></a>"
      ]
    },
    {
      "cell_type": "markdown",
      "source": [
        "### Build the Neural Network"
      ],
      "metadata": {
        "id": "-5YjQsb7kE4b"
      }
    },
    {
      "cell_type": "markdown",
      "source": [
        "Neural networks comprise of layers/modules that perform operations on data. The torch.nn namespace provides all the building blocks you need to build your own neural network. Every module in PyTorch subclasses the nn.Module. A neural network is a module itself that consists of other modules (layers). This nested structure allows for building and managing complex architectures easily.\n",
        "\n",
        "In the following sections, we’ll build a neural network to classify images in the FashionMNIST dataset.\n",
        "\n"
      ],
      "metadata": {
        "id": "m-kSe55MkMQU"
      }
    },
    {
      "cell_type": "code",
      "source": [
        "import os\n",
        "import torch\n",
        "from torch import nn\n",
        "from torch.utils.data import DataLoader\n",
        "from torchvision import datasets, transforms"
      ],
      "metadata": {
        "id": "z6XsPyWskTWl"
      },
      "execution_count": 1,
      "outputs": []
    },
    {
      "cell_type": "markdown",
      "source": [
        "### Get Device for Training\n"
      ],
      "metadata": {
        "id": "1Yxv4706k8Oz"
      }
    },
    {
      "cell_type": "markdown",
      "source": [
        "We want to be able to train our model on an accelerator such as CUDA, MPS, MTIA, or XPU.\n",
        "If the current accelerator is available, we will use it. Otherwise, we use the CPU.\n",
        "\n"
      ],
      "metadata": {
        "id": "PmS8t96ylrju"
      }
    },
    {
      "cell_type": "code",
      "source": [
        "device = torch.accelerator.current_accelerator().type if torch.accelerator.is_available() else \"cpu\"\n",
        "print(f\"Using {device} device\")"
      ],
      "metadata": {
        "colab": {
          "base_uri": "https://localhost:8080/"
        },
        "id": "VFy4wZaukckB",
        "outputId": "d127668b-fba7-410e-ad9a-f682eea0e1e4"
      },
      "execution_count": 2,
      "outputs": [
        {
          "output_type": "stream",
          "name": "stdout",
          "text": [
            "Using cuda device\n"
          ]
        }
      ]
    },
    {
      "cell_type": "markdown",
      "source": [
        "### Define the Class"
      ],
      "metadata": {
        "id": "X066nSekl7tU"
      }
    },
    {
      "cell_type": "markdown",
      "source": [
        "We define our neural network by subclassing nn.Module, and initialize the neural network layers in __init__.\n",
        "Every nn.Module subclass implements the operations on input data in the forward method.\n",
        "\n"
      ],
      "metadata": {
        "id": "nWxaSINjl_Ak"
      }
    },
    {
      "cell_type": "code",
      "source": [
        "import torch.nn as nn\n",
        "import torch.nn.functional as F\n",
        "\n",
        "class NeuralNetwork(nn.Module):\n",
        "    def __init__(self):\n",
        "        super().__init__()\n",
        "        self.flatten = nn.Flatten()\n",
        "        self.linear_relu_stack = nn.Sequential(\n",
        "            nn.Linear(28*28, 512),\n",
        "            nn.ReLU(),\n",
        "            nn.Linear(512, 512),\n",
        "            nn.ReLU(),\n",
        "            nn.Linear(512, 10),\n",
        "        )\n",
        "\n",
        "    def forward(self, x):\n",
        "        x = self.flatten(x)\n",
        "        logits = self.linear_relu_stack(x)\n",
        "        return logits"
      ],
      "metadata": {
        "id": "yz3OxEbhlyyI"
      },
      "execution_count": 3,
      "outputs": []
    },
    {
      "cell_type": "code",
      "source": [
        "model = NeuralNetwork().to(device)\n",
        "print(model)"
      ],
      "metadata": {
        "colab": {
          "base_uri": "https://localhost:8080/"
        },
        "id": "5GdxrlnSonMj",
        "outputId": "0ed5df42-2f52-4ba8-b981-97dbb8cc8c89"
      },
      "execution_count": 4,
      "outputs": [
        {
          "output_type": "stream",
          "name": "stdout",
          "text": [
            "NeuralNetwork(\n",
            "  (flatten): Flatten(start_dim=1, end_dim=-1)\n",
            "  (linear_relu_stack): Sequential(\n",
            "    (0): Linear(in_features=784, out_features=512, bias=True)\n",
            "    (1): ReLU()\n",
            "    (2): Linear(in_features=512, out_features=512, bias=True)\n",
            "    (3): ReLU()\n",
            "    (4): Linear(in_features=512, out_features=10, bias=True)\n",
            "  )\n",
            ")\n"
          ]
        }
      ]
    },
    {
      "cell_type": "markdown",
      "source": [
        "To use the model, we pass it the input data. This executes the model’s forward, along with some background operations. Do not call model.forward() directly!\n",
        "\n",
        "Calling the model on the input returns a 2-dimensional tensor with dim=0 corresponding to each output of 10 raw predicted values for each class, and dim=1 corresponding to the individual values of each output. We get the prediction probabilities by passing it through an instance of the nn.Softmax module."
      ],
      "metadata": {
        "id": "1udWcNoPP19s"
      }
    },
    {
      "cell_type": "code",
      "source": [
        "X = torch.rand(1, 28, 28, device=device)\n",
        "logits = model(X)\n",
        "pred_probab = nn.Softmax(dim=1)(logits)\n",
        "y_pred = pred_probab.argmax(1)\n",
        "print(f\"Predicted class: {y_pred}\")"
      ],
      "metadata": {
        "colab": {
          "base_uri": "https://localhost:8080/"
        },
        "id": "e2yHjghVo0n2",
        "outputId": "deea21d4-0172-433f-c149-ee17627c1d72"
      },
      "execution_count": 5,
      "outputs": [
        {
          "output_type": "stream",
          "name": "stdout",
          "text": [
            "Predicted class: tensor([5], device='cuda:0')\n"
          ]
        }
      ]
    },
    {
      "cell_type": "markdown",
      "source": [
        "### Model Layers"
      ],
      "metadata": {
        "id": "hB1-aQznQp_j"
      }
    },
    {
      "cell_type": "markdown",
      "source": [
        "Let’s break down the layers in the FashionMNIST model. To illustrate it, we will take a sample minibatch of 3 images of\n",
        "size 28x28 and see what happens to it as we pass it through the network.\n",
        "\n"
      ],
      "metadata": {
        "id": "0T9ca1P_QuRE"
      }
    },
    {
      "cell_type": "code",
      "source": [
        "input_image = torch.rand(3,28,28)\n",
        "print(input_image.size())"
      ],
      "metadata": {
        "colab": {
          "base_uri": "https://localhost:8080/"
        },
        "id": "qO2YBRcrSOfY",
        "outputId": "ea62aa47-9304-4716-bd2a-331f0abd60a4"
      },
      "execution_count": 6,
      "outputs": [
        {
          "output_type": "stream",
          "name": "stdout",
          "text": [
            "torch.Size([3, 28, 28])\n"
          ]
        }
      ]
    },
    {
      "cell_type": "markdown",
      "source": [
        "### nn.Flatten"
      ],
      "metadata": {
        "id": "vCWLUCcnSkLQ"
      }
    },
    {
      "cell_type": "markdown",
      "source": [
        "We initialize the nn.Flatten layer to convert each 2D 28x28 image into\n",
        "a contiguous array of 784 pixel values (the minibatch dimension (at dim=0) is maintained).\n",
        "\n"
      ],
      "metadata": {
        "id": "GlRl_hKcSnyh"
      }
    },
    {
      "cell_type": "code",
      "source": [
        "flatten = nn.Flatten()\n",
        "flat_image = flatten(input_image)\n",
        "print(flat_image.size())"
      ],
      "metadata": {
        "id": "p56OxGZU2dcu",
        "colab": {
          "base_uri": "https://localhost:8080/"
        },
        "outputId": "b3063167-cdc6-4518-f692-4921a822c6b6"
      },
      "execution_count": 7,
      "outputs": [
        {
          "output_type": "stream",
          "name": "stdout",
          "text": [
            "torch.Size([3, 784])\n"
          ]
        }
      ]
    },
    {
      "cell_type": "markdown",
      "source": [
        "### nn.Linear\n"
      ],
      "metadata": {
        "id": "BUueXrZ1TN-Y"
      }
    },
    {
      "cell_type": "markdown",
      "source": [
        "The linear layer is a module that applies a linear transformation on the input using its stored weights and biases."
      ],
      "metadata": {
        "id": "-MQY_xWOYBMf"
      }
    },
    {
      "cell_type": "code",
      "source": [
        "layer1 = nn.Linear(in_features=28*28, out_features=20)\n",
        "hidden1 = layer1(flat_image)\n",
        "print(hidden1.size())"
      ],
      "metadata": {
        "colab": {
          "base_uri": "https://localhost:8080/"
        },
        "id": "qMUSqVCGZPmX",
        "outputId": "2738a3f4-0a64-4219-9c20-93082988d00f"
      },
      "execution_count": 8,
      "outputs": [
        {
          "output_type": "stream",
          "name": "stdout",
          "text": [
            "torch.Size([3, 20])\n"
          ]
        }
      ]
    },
    {
      "cell_type": "markdown",
      "source": [
        "### nn.ReLU\n",
        "Non-linear activations are what create the complex mappings between the model’s inputs and outputs. They are applied after linear transformations to introduce nonlinearity, helping neural networks learn a wide variety of phenomena.\n",
        "\n",
        "In this model, we use nn.ReLU between our linear layers, but there’s other activations to introduce non-linearity in your model.\n",
        "\n"
      ],
      "metadata": {
        "id": "HGDR4yOIqC_8"
      }
    },
    {
      "cell_type": "code",
      "source": [
        "print(f\"Before ReLU: {hidden1}\\n\\n\")\n",
        "hidden1 = nn.ReLU()(hidden1)\n",
        "print(f\"After ReLU: {hidden1}\")"
      ],
      "metadata": {
        "colab": {
          "base_uri": "https://localhost:8080/"
        },
        "id": "HktDUYNwqbcZ",
        "outputId": "ed31118d-14b5-4d9e-daa8-ca6e181b9200"
      },
      "execution_count": 9,
      "outputs": [
        {
          "output_type": "stream",
          "name": "stdout",
          "text": [
            "Before ReLU: tensor([[-0.7547,  0.4732, -0.2313,  0.1594, -0.3064, -0.3027, -0.5200, -0.2161,\n",
            "          0.3825,  0.0066, -0.0117,  0.5782, -0.1564, -0.7939,  0.1596,  0.5934,\n",
            "         -0.6945,  0.5072,  0.2164, -0.1349],\n",
            "        [-0.8367, -0.0680, -0.1166,  0.2008, -0.2912, -0.0865, -0.2417,  0.0156,\n",
            "          0.5541,  0.3268, -0.1589,  0.7749, -0.0321, -1.0789,  0.0974,  0.6628,\n",
            "         -0.4135,  0.0370,  0.2536, -0.2504],\n",
            "        [-0.6736, -0.0564, -0.4477, -0.1088, -0.0507, -0.0034, -0.2096,  0.2399,\n",
            "          0.3670,  0.6365, -0.2558,  0.6545, -0.1524, -0.8549,  0.1987,  0.4429,\n",
            "         -0.4848,  0.2454,  0.4417, -0.1282]], grad_fn=<AddmmBackward0>)\n",
            "\n",
            "\n",
            "After ReLU: tensor([[0.0000, 0.4732, 0.0000, 0.1594, 0.0000, 0.0000, 0.0000, 0.0000, 0.3825,\n",
            "         0.0066, 0.0000, 0.5782, 0.0000, 0.0000, 0.1596, 0.5934, 0.0000, 0.5072,\n",
            "         0.2164, 0.0000],\n",
            "        [0.0000, 0.0000, 0.0000, 0.2008, 0.0000, 0.0000, 0.0000, 0.0156, 0.5541,\n",
            "         0.3268, 0.0000, 0.7749, 0.0000, 0.0000, 0.0974, 0.6628, 0.0000, 0.0370,\n",
            "         0.2536, 0.0000],\n",
            "        [0.0000, 0.0000, 0.0000, 0.0000, 0.0000, 0.0000, 0.0000, 0.2399, 0.3670,\n",
            "         0.6365, 0.0000, 0.6545, 0.0000, 0.0000, 0.1987, 0.4429, 0.0000, 0.2454,\n",
            "         0.4417, 0.0000]], grad_fn=<ReluBackward0>)\n"
          ]
        }
      ]
    },
    {
      "cell_type": "markdown",
      "source": [
        "### nn.Sequential\n",
        "nn.Sequential is an ordered container of modules.\n",
        "The data is passed through all the modules in the same order as defined. You can use sequential containers to put together a quick network like seq_modules.\n",
        "\n"
      ],
      "metadata": {
        "id": "K8TJZZZRqdFM"
      }
    },
    {
      "cell_type": "code",
      "source": [
        "seq_modules = nn.Sequential(\n",
        "    flatten,\n",
        "    layer1,\n",
        "    nn.ReLU(),\n",
        "    nn.Linear(20, 10)\n",
        ")\n",
        "input_image = torch.rand(3,28,28)\n",
        "logits = seq_modules(input_image)"
      ],
      "metadata": {
        "id": "aWCi8-07qout"
      },
      "execution_count": 10,
      "outputs": []
    },
    {
      "cell_type": "markdown",
      "source": [
        "### nn.Softmax\n",
        "The last linear layer of the neural network returns logits - raw values in [-infty, infty] - which are passed to the nn.Softmax module.\n",
        "The logits are scaled to values [0, 1] representing the model’s predicted probabilities for each class.\n",
        "dim parameter indicates the dimension along which the values must sum to 1.\n"
      ],
      "metadata": {
        "id": "Xhbm08hnq4VT"
      }
    },
    {
      "cell_type": "code",
      "source": [
        "softmax = nn.Softmax(dim=1)\n",
        "pred_probab = softmax(logits)"
      ],
      "metadata": {
        "id": "WAMCjZ-XrInL"
      },
      "execution_count": 11,
      "outputs": []
    },
    {
      "cell_type": "markdown",
      "source": [
        "### Model Parameters\n",
        "Many layers inside a neural network are parameterized, i.e. have associated weights and biases that are optimized during training. Subclassing nn.Module automatically tracks all fields defined inside your model object, and makes all parameters accessible using your model’s parameters() or named_parameters() methods.\n",
        "\n",
        "In this example, we iterate over each parameter, and print its size and a preview of its values."
      ],
      "metadata": {
        "id": "VvAJiQEWrKP9"
      }
    },
    {
      "cell_type": "code",
      "source": [
        "print(f\"Model structure: {model}\\n\\n\")\n",
        "\n",
        "for name, param in model.named_parameters():\n",
        "    print(f\"Layer: {name} | Size: {param.size()} | Values : {param[:2]} \\n\")"
      ],
      "metadata": {
        "colab": {
          "base_uri": "https://localhost:8080/"
        },
        "id": "rSYlZ3DNrZpB",
        "outputId": "7390daa5-7855-4884-e24d-2a823f40d52c"
      },
      "execution_count": 12,
      "outputs": [
        {
          "output_type": "stream",
          "name": "stdout",
          "text": [
            "Model structure: NeuralNetwork(\n",
            "  (flatten): Flatten(start_dim=1, end_dim=-1)\n",
            "  (linear_relu_stack): Sequential(\n",
            "    (0): Linear(in_features=784, out_features=512, bias=True)\n",
            "    (1): ReLU()\n",
            "    (2): Linear(in_features=512, out_features=512, bias=True)\n",
            "    (3): ReLU()\n",
            "    (4): Linear(in_features=512, out_features=10, bias=True)\n",
            "  )\n",
            ")\n",
            "\n",
            "\n",
            "Layer: linear_relu_stack.0.weight | Size: torch.Size([512, 784]) | Values : tensor([[ 0.0335,  0.0297, -0.0333,  ...,  0.0064, -0.0325,  0.0232],\n",
            "        [-0.0216, -0.0190, -0.0045,  ...,  0.0173,  0.0355,  0.0127]],\n",
            "       device='cuda:0', grad_fn=<SliceBackward0>) \n",
            "\n",
            "Layer: linear_relu_stack.0.bias | Size: torch.Size([512]) | Values : tensor([0.0157, 0.0256], device='cuda:0', grad_fn=<SliceBackward0>) \n",
            "\n",
            "Layer: linear_relu_stack.2.weight | Size: torch.Size([512, 512]) | Values : tensor([[ 0.0197,  0.0001,  0.0046,  ...,  0.0176,  0.0118, -0.0394],\n",
            "        [ 0.0035, -0.0174,  0.0078,  ...,  0.0140, -0.0110, -0.0040]],\n",
            "       device='cuda:0', grad_fn=<SliceBackward0>) \n",
            "\n",
            "Layer: linear_relu_stack.2.bias | Size: torch.Size([512]) | Values : tensor([ 0.0130, -0.0290], device='cuda:0', grad_fn=<SliceBackward0>) \n",
            "\n",
            "Layer: linear_relu_stack.4.weight | Size: torch.Size([10, 512]) | Values : tensor([[-0.0252, -0.0059, -0.0077,  ...,  0.0369, -0.0050, -0.0419],\n",
            "        [-0.0408, -0.0344, -0.0363,  ..., -0.0096,  0.0082,  0.0105]],\n",
            "       device='cuda:0', grad_fn=<SliceBackward0>) \n",
            "\n",
            "Layer: linear_relu_stack.4.bias | Size: torch.Size([10]) | Values : tensor([0.0292, 0.0244], device='cuda:0', grad_fn=<SliceBackward0>) \n",
            "\n"
          ]
        }
      ]
    }
  ]
}