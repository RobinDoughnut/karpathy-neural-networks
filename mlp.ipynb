{
 "cells": [
  {
   "cell_type": "code",
   "execution_count": 1,
   "id": "600e625c-0c46-491f-bb89-6726a509a2ed",
   "metadata": {},
   "outputs": [],
   "source": [
    "import torch as torch\n",
    "import torch.nn.functional as F\n",
    "import matplotlib.pyplot as plt"
   ]
  },
  {
   "cell_type": "code",
   "execution_count": 3,
   "id": "f3ab79c0-793f-423a-9f31-6a0f7f5483b6",
   "metadata": {},
   "outputs": [
    {
     "name": "stdout",
     "output_type": "stream",
     "text": [
      "['emma', 'olivia', 'ava', 'isabella', 'sophia', 'charlotte', 'mia', 'amelia']\n",
      "32033\n"
     ]
    }
   ],
   "source": [
    "words = open(\"names.txt\", \"r\").read().splitlines()\n",
    "print(words[:8])\n",
    "print(len(words))"
   ]
  },
  {
   "cell_type": "code",
   "execution_count": 5,
   "id": "f4811a88-0fc5-466d-adcb-8862e109845b",
   "metadata": {},
   "outputs": [
    {
     "name": "stdout",
     "output_type": "stream",
     "text": [
      "torch.Size([182625, 4]) torch.Size([182625])\n",
      "torch.Size([22655, 4]) torch.Size([22655])\n",
      "torch.Size([22866, 4]) torch.Size([22866])\n"
     ]
    }
   ],
   "source": [
    "chars = sorted(list(set(\"\".join(words))))\n",
    "stoi = {s: i + 1 for i, s in enumerate(chars)}\n",
    "stoi[\".\"] = 0\n",
    "itos = {i: s for s, i in stoi.items()}\n",
    "\n",
    "block_size = 4\n",
    "def build_dataset(words, block_size = block_size):  \n",
    "\n",
    "  X, Y = [], []\n",
    "  \n",
    "  for w in words:\n",
    "\n",
    "    context = [0] * block_size\n",
    "    for ch in w + '.':\n",
    "\n",
    "      ix = stoi[ch]\n",
    "\n",
    "      X.append(context)\n",
    "      Y.append(ix)\n",
    "\n",
    "      context = context[1:] + [ix]\n",
    "\n",
    "  X = torch.tensor(X)\n",
    "  Y = torch.tensor(Y)\n",
    "  print(X.shape, Y.shape)\n",
    "  return X, Y\n",
    "\n",
    "import random\n",
    "random.seed(42)\n",
    "random.shuffle(words)\n",
    "n1 = int(0.8*len(words))\n",
    "n2 = int(0.9*len(words))\n",
    "\n",
    "Xtr, Ytr = build_dataset(words[:n1])\n",
    "Xdev, Ydev = build_dataset(words[n1:n2])\n",
    "Xte, Yte = build_dataset(words[n2:])"
   ]
  },
  {
   "cell_type": "markdown",
   "id": "6448fc3d-b7e8-42ca-95b6-e366d277f17c",
   "metadata": {},
   "source": [
    "## Ex-1 Tune hyperparameters of training to beat loss of 2.2"
   ]
  },
  {
   "cell_type": "code",
   "execution_count": 8,
   "id": "442b44fc-ade6-4e96-a140-867d580b64e5",
   "metadata": {},
   "outputs": [],
   "source": [
    "# Hyperparameters\n",
    "emb_size = 12\n",
    "in_size = block_size * emb_size\n",
    "hidden_size = 256\n",
    "out_size = 27\n",
    "\n",
    "lr = 0.1\n",
    "lambda_ = 0.01\n",
    "batch_size = 256"
   ]
  },
  {
   "cell_type": "code",
   "execution_count": 10,
   "id": "7d1319d5-9550-482a-b807-ea3469d7abd5",
   "metadata": {},
   "outputs": [
    {
     "name": "stdout",
     "output_type": "stream",
     "text": [
      "number of params = 19807\n"
     ]
    }
   ],
   "source": [
    "g = torch.Generator().manual_seed(12344321)\n",
    "C = torch.randn((out_size, emb_size), generator = g)\n",
    "W1 = torch.randn((in_size, hidden_size), generator = g)\n",
    "b1 = torch.randn(hidden_size, generator = g)\n",
    "W2 = torch.randn((hidden_size, out_size), generator = g)\n",
    "b2 = torch.randn(out_size, generator = g)\n",
    "\n",
    "parameters = [C, W1, b1, W2, b2]\n",
    "print(f\"number of params = {sum(p.nelement() for p in parameters)}\")\n",
    "\n",
    "for p in parameters:\n",
    "    p.requires_grad = True\n",
    "\n",
    "# use the new learning rate\n",
    "lossi = []\n",
    "stepi = []"
   ]
  },
  {
   "cell_type": "code",
   "execution_count": 12,
   "id": "2c603ea6-e564-42cf-955b-49915714f8a0",
   "metadata": {},
   "outputs": [
    {
     "name": "stdout",
     "output_type": "stream",
     "text": [
      "mini batch 0 | loss 29.972780227661133 at lr 0.1\n",
      "mini batch 10000 | loss 2.411175489425659 at lr 0.1\n",
      "mini batch 20000 | loss 2.1863632202148438 at lr 0.1\n",
      "mini batch 30000 | loss 2.396300792694092 at lr 0.01\n",
      "mini batch 40000 | loss 2.1551756858825684 at lr 0.01\n",
      "mini batch 50000 | loss 2.216747760772705 at lr 0.01\n",
      "mini batch 60000 | loss 2.4439852237701416 at lr 0.1\n",
      "mini batch 70000 | loss 2.2851204872131348 at lr 0.1\n",
      "mini batch 80000 | loss 2.1994519233703613 at lr 0.1\n",
      "mini batch 90000 | loss 2.124404191970825 at lr 0.1\n",
      "mini batch 100000 | loss 2.207440137863159 at lr 0.1\n",
      "mini batch 110000 | loss 2.1708521842956543 at lr 0.1\n",
      "mini batch 120000 | loss 2.0938239097595215 at lr 0.1\n",
      "mini batch 130000 | loss 2.1872010231018066 at lr 0.1\n",
      "mini batch 140000 | loss 2.116844415664673 at lr 0.1\n",
      "mini batch 150000 | loss 2.3970491886138916 at lr 0.1\n",
      "mini batch 160000 | loss 2.0594871044158936 at lr 0.1\n",
      "mini batch 170000 | loss 2.0188286304473877 at lr 0.1\n",
      "mini batch 180000 | loss 2.2007172107696533 at lr 0.1\n",
      "mini batch 190000 | loss 2.1130287647247314 at lr 0.1\n",
      "mini batch 200000 | loss 1.9556952714920044 at lr 0.001\n",
      "mini batch 210000 | loss 2.0093770027160645 at lr 0.001\n",
      "mini batch 220000 | loss 2.001659393310547 at lr 0.001\n",
      "mini batch 230000 | loss 2.107398271560669 at lr 0.001\n",
      "mini batch 240000 | loss 2.005486488342285 at lr 0.001\n",
      "mini batch 250000 | loss 1.9940365552902222 at lr 0.001\n",
      "mini batch 260000 | loss 2.073427200317383 at lr 0.001\n",
      "mini batch 270000 | loss 2.0384767055511475 at lr 0.001\n",
      "mini batch 280000 | loss 2.005012035369873 at lr 0.001\n",
      "mini batch 290000 | loss 2.055373191833496 at lr 0.001\n"
     ]
    }
   ],
   "source": [
    "# Training Loop\n",
    "for i in range(300000):\n",
    "\n",
    "    # minibatch construct\n",
    "    ix = torch.randint(0, Xtr.shape[0], (batch_size,)) # now size of emb is (32, 3, 2) again\n",
    "\n",
    "    # Forward Pass\n",
    "    emb = C[Xtr[ix]]\n",
    "    # print(emb.shape)\n",
    "    h = torch.tanh(emb.view(-1, in_size) @ W1 + b1)\n",
    "    logits = h @ W2 + b2\n",
    "\n",
    "    loss = F.cross_entropy(logits, Ytr[ix])\n",
    "\n",
    "    # add regularization\n",
    "    loss += lambda_ * (W1 ** 2).mean() + lambda_ * (W2 ** 2).mean()\n",
    "\n",
    "    # Backward Pass\n",
    "    for p in parameters:\n",
    "        p.grad = None\n",
    "\n",
    "    loss.backward()\n",
    "\n",
    "    used_lr = lr\n",
    "    if i > 20000 and i < 60000:\n",
    "        used_lr = 0.01\n",
    "    elif i >= 200000:\n",
    "        used_lr = 0.001\n",
    "    elif i >= 260000:\n",
    "        used_lr = 0.0001\n",
    "        \n",
    "    for p in parameters:\n",
    "        p.data -= used_lr * p.grad\n",
    "\n",
    "    # track loss\n",
    "    lossi.append(loss.log10().item())\n",
    "    stepi.append(i)\n",
    "\n",
    "    if i % 10000 == 0:\n",
    "        print(f\"mini batch {i} | loss {loss.item()} at lr {used_lr}\")\n",
    "            "
   ]
  },
  {
   "cell_type": "markdown",
   "id": "548306cc-342f-424a-8c06-72a7eebdff6b",
   "metadata": {},
   "source": [
    "for learning rates we used [0.1, 0.05, 0.05, 0.001] 30k steps each"
   ]
  },
  {
   "cell_type": "code",
   "execution_count": 15,
   "id": "dd669b82-faa9-43a9-a927-ea2ebab3a29b",
   "metadata": {},
   "outputs": [
    {
     "name": "stdout",
     "output_type": "stream",
     "text": [
      "Training set loss 2.042649269104004\n",
      "Dev set loss 2.1100804805755615\n"
     ]
    },
    {
     "data": {
      "image/png": "[encoded data removed]",
      "text/plain": [
       "<Figure size 640x480 with 1 Axes>"
      ]
     },
     "metadata": {},
     "output_type": "display_data"
    }
   ],
   "source": [
    "# Evaluation\n",
    "\n",
    "# 1) Training Loss\n",
    "# Forward Pass\n",
    "emb = C[Xtr]\n",
    "# print(emb.shape)\n",
    "h = torch.tanh(emb.view(-1, in_size) @ W1 + b1)\n",
    "logits = h @ W2 + b2\n",
    "loss = F.cross_entropy(logits, Ytr)\n",
    "\n",
    "print(f\"Training set loss {loss.item()}\")\n",
    "\n",
    "# 2) Test Loss\n",
    "# Forward Pass\n",
    "emb = C[Xdev]\n",
    "# print(emb.shape)\n",
    "h = torch.tanh(emb.view(-1, in_size) @ W1 + b1)\n",
    "logits = h @ W2 + b2\n",
    "loss = F.cross_entropy(logits, Ydev)\n",
    "\n",
    "print(f\"Dev set loss {loss.item()}\")\n",
    "\n",
    "# 3) Plot Mini Batch Loss[]\n",
    "plt.plot(lossi);"
   ]
  },
  {
   "cell_type": "markdown",
   "id": "d9eec087-65fd-40a8-8717-360f9451dd79",
   "metadata": {},
   "source": [
    "## Ex-2 Initialization of network"
   ]
  },
  {
   "cell_type": "code",
   "execution_count": 18,
   "id": "39f38531-18fd-4b89-888e-d2696ea303b6",
   "metadata": {},
   "outputs": [
    {
     "name": "stdout",
     "output_type": "stream",
     "text": [
      "Training set loss 3.3367433547973633\n",
      "Dev set loss 3.3340940475463867\n"
     ]
    }
   ],
   "source": [
    "# Evaluation\n",
    "# 1) Training Loss\n",
    "# Forward Pass\n",
    "emb = C[Xtr]\n",
    "# print(emb.shape)\n",
    "h = torch.tanh(emb.view(-1, in_size) @ W1 + b1)\n",
    "logits = h @ W2 + b2\n",
    "torch.nn.init.uniform_(logits, 0, 1)\n",
    "loss = F.cross_entropy(logits, Ytr)\n",
    "\n",
    "print(f\"Training set loss {loss.item()}\")\n",
    "\n",
    "# 2) Dev Loss\n",
    "# Forward Pass\n",
    "emb = C[Xdev]\n",
    "# print(emb.shape)\n",
    "h = torch.tanh(emb.view(-1, in_size) @ W1 + b1)\n",
    "logits = h @ W2 + b2\n",
    "torch.nn.init.uniform_(logits, 0, 1)\n",
    "loss = F.cross_entropy(logits, Ydev)\n",
    "\n",
    "print(f\"Dev set loss {loss.item()}\")"
   ]
  },
  {
   "cell_type": "markdown",
   "id": "9b2c3809-b28d-450c-9b7d-e4757c164957",
   "metadata": {},
   "source": [
    "## (2) Can you tune the initialization to get a starting loss that is much more similar to (1)?\n",
    "\n",
    "reduce the std of the initialization to 0.01"
   ]
  },
  {
   "cell_type": "code",
   "execution_count": 20,
   "id": "b6760bb6-0b40-4785-a582-4d5b3bd21c73",
   "metadata": {},
   "outputs": [
    {
     "name": "stdout",
     "output_type": "stream",
     "text": [
      "number of params = 19807\n"
     ]
    }
   ],
   "source": [
    "torch.nn.init.normal_(C, 0, 0.01)\n",
    "torch.nn.init.normal_(W1, 0, 0.01)\n",
    "torch.nn.init.normal_(b1, 0, 0.01)\n",
    "torch.nn.init.normal_(W2, 0, 0.01)\n",
    "torch.nn.init.normal_(b2, 0, 0.01)\n",
    "\n",
    "# use Xtr and Ytr\n",
    "X = Xtr\n",
    "Y = Ytr\n",
    "\n",
    "parameters = [C, W1, b1, W2, b2]\n",
    "print(f\"number of params = {sum(p.nelement() for p in parameters)}\")\n",
    "\n",
    "for p in parameters:\n",
    "    p.requires_grad = True"
   ]
  },
  {
   "cell_type": "code",
   "execution_count": 22,
   "id": "38fb65ac-1981-4163-be5c-44ae44080360",
   "metadata": {},
   "outputs": [
    {
     "name": "stdout",
     "output_type": "stream",
     "text": [
      "starting loss | loss 3.29825758934021\n"
     ]
    }
   ],
   "source": [
    "# minibatch construct\n",
    "ix = torch.randint(0, Xtr.shape[0], (batch_size,)) # now size of emb is (32, 3, 2) again\n",
    "\n",
    "# Forward Pass\n",
    "emb = C[Xtr[ix]]\n",
    "# print(emb.shape)\n",
    "h = torch.tanh(emb.view(-1, in_size) @ W1 + b1)\n",
    "logits = h @ W2 + b2\n",
    "\n",
    "loss = F.cross_entropy(logits, Ytr[ix])\n",
    "\n",
    "# add regularization\n",
    "loss += lambda_ * (W1 ** 2).mean() + lambda_ * (W2 ** 2).mean()\n",
    "print(f\"starting loss | loss {loss.item()}\")\n",
    "            "
   ]
  },
  {
   "cell_type": "markdown",
   "id": "e8f1b791-c599-46fe-bd55-50181bc4bb98",
   "metadata": {},
   "source": [
    "# Ex-3:  E03: Read the Bengio et al 2003 paper (link above), implement and try any idea from the paper. Did it work?\n",
    "Regularization is used above, however, it had a small effect on the validation loss."
   ]
  }
 ],
 "metadata": {
  "kernelspec": {
   "display_name": "Python 3 (ipykernel)",
   "language": "python",
   "name": "python3"
  },
  "language_info": {
   "codemirror_mode": {
    "name": "ipython",
    "version": 3
   },
   "file_extension": ".py",
   "mimetype": "text/x-python",
   "name": "python",
   "nbconvert_exporter": "python",
   "pygments_lexer": "ipython3",
   "version": "3.12.2"
  }
 },
 "nbformat": 4,
 "nbformat_minor": 5
}
